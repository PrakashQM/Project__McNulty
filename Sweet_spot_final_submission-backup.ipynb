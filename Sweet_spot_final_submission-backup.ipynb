{
 "cells": [
  {
   "cell_type": "markdown",
   "metadata": {},
   "source": [
    "#### Algorithm that perform better in testing share are\n",
    "> GradientBoosting"
   ]
  },
  {
   "cell_type": "markdown",
   "metadata": {},
   "source": [
    "> Failed=0  \n",
    " Success=1"
   ]
  },
  {
   "cell_type": "code",
   "execution_count": 1,
   "metadata": {},
   "outputs": [],
   "source": [
    "import pandas as pd\n",
    "# pd.set_option('max_columns', 37)\n",
    "%matplotlib inline"
   ]
  },
  {
   "cell_type": "code",
   "execution_count": 2,
   "metadata": {
    "scrolled": true
   },
   "outputs": [],
   "source": [
    "dd = pd.read_csv('0.Data/kickstarter_data_full.csv',low_memory=False)"
   ]
  },
  {
   "cell_type": "code",
   "execution_count": 3,
   "metadata": {},
   "outputs": [],
   "source": [
    "def drop_columns_further(df):\n",
    "    date_info=['deadline_month','deadline_day','created_at_month','created_at_day','created_at_hr',\n",
    "               'launched_at_month','launched_at_day','launched_at_hr','name_len','blurb_len']\n",
    "    return df.drop(date_info,axis=1)\n",
    "def drop_useless_columns(df):\n",
    "    look_useless=['is_starred','is_backing','permissions','pledged','currency','disable_communication','spotlight']\n",
    "    redundant=['launch_to_state_change','deadline','SuccessfulBool','launch_to_state_change_days']\n",
    "    state_change_date=['state_changed_at_weekday','state_changed_at_month','state_changed_at_day','state_changed_at_yr'\n",
    "                      ,'state_changed_at_hr']\n",
    "    too_much_info=['create_to_launch','launch_to_deadline','launch_to_state_change','location']\n",
    "    too_much_info1=['state_changed_at','created_at','launched_at']\n",
    "    too_much_info2=['state_changed_at','created_at','launched_at']\n",
    "    for_later=['created_at_yr','launched_at_yr','deadline_yr','deadline_hr','launch_to_deadline']\n",
    "    words=['name','blurb','slug','urls','profile']\n",
    "    list_to_drop=['USorGB','Unnamed: 0','id','photo','currency_symbol','currency_trailing_code','static_usd_rate','creator','source_url','friends','TOPCOUNTRY']\n",
    "    drop_list=look_useless+words+list_to_drop+redundant+for_later+too_much_info+too_much_info1+too_much_info2 + state_change_date\n",
    "    return drop_columns_further(df.drop(drop_list,axis=1))"
   ]
  },
  {
   "cell_type": "code",
   "execution_count": 4,
   "metadata": {},
   "outputs": [],
   "source": [
    "df1=drop_useless_columns(dd)"
   ]
  },
  {
   "cell_type": "markdown",
   "metadata": {},
   "source": [
    "### Lets drop row that has nan values and also just keep failed and succesful state values"
   ]
  },
  {
   "cell_type": "code",
   "execution_count": 5,
   "metadata": {},
   "outputs": [],
   "source": [
    "def drop_nan_and_keep_only_success_failure(data):\n",
    "    mask = (data['state']=='failed') | (data['state']=='successful')\n",
    "    return data[mask]"
   ]
  },
  {
   "cell_type": "code",
   "execution_count": 6,
   "metadata": {},
   "outputs": [],
   "source": [
    "df=drop_nan_and_keep_only_success_failure(df1)"
   ]
  },
  {
   "cell_type": "code",
   "execution_count": 7,
   "metadata": {},
   "outputs": [
    {
     "data": {
      "text/html": [
       "<div>\n",
       "<style scoped>\n",
       "    .dataframe tbody tr th:only-of-type {\n",
       "        vertical-align: middle;\n",
       "    }\n",
       "\n",
       "    .dataframe tbody tr th {\n",
       "        vertical-align: top;\n",
       "    }\n",
       "\n",
       "    .dataframe thead th {\n",
       "        text-align: right;\n",
       "    }\n",
       "</style>\n",
       "<table border=\"1\" class=\"dataframe\">\n",
       "  <thead>\n",
       "    <tr style=\"text-align: right;\">\n",
       "      <th></th>\n",
       "      <th>goal</th>\n",
       "      <th>state</th>\n",
       "      <th>country</th>\n",
       "      <th>staff_pick</th>\n",
       "      <th>backers_count</th>\n",
       "      <th>usd_pledged</th>\n",
       "      <th>category</th>\n",
       "      <th>name_len_clean</th>\n",
       "      <th>blurb_len_clean</th>\n",
       "      <th>deadline_weekday</th>\n",
       "      <th>created_at_weekday</th>\n",
       "      <th>launched_at_weekday</th>\n",
       "      <th>create_to_launch_days</th>\n",
       "      <th>launch_to_deadline_days</th>\n",
       "      <th>LaunchedTuesday</th>\n",
       "      <th>DeadlineWeekend</th>\n",
       "    </tr>\n",
       "  </thead>\n",
       "  <tbody>\n",
       "    <tr>\n",
       "      <th>0</th>\n",
       "      <td>1500.0</td>\n",
       "      <td>failed</td>\n",
       "      <td>US</td>\n",
       "      <td>False</td>\n",
       "      <td>0</td>\n",
       "      <td>0.000000</td>\n",
       "      <td>Academic</td>\n",
       "      <td>9.0</td>\n",
       "      <td>16.0</td>\n",
       "      <td>Friday</td>\n",
       "      <td>Saturday</td>\n",
       "      <td>Wednesday</td>\n",
       "      <td>17</td>\n",
       "      <td>36</td>\n",
       "      <td>0</td>\n",
       "      <td>0</td>\n",
       "    </tr>\n",
       "    <tr>\n",
       "      <th>1</th>\n",
       "      <td>500.0</td>\n",
       "      <td>failed</td>\n",
       "      <td>US</td>\n",
       "      <td>False</td>\n",
       "      <td>0</td>\n",
       "      <td>0.000000</td>\n",
       "      <td>Academic</td>\n",
       "      <td>4.0</td>\n",
       "      <td>15.0</td>\n",
       "      <td>Friday</td>\n",
       "      <td>Friday</td>\n",
       "      <td>Monday</td>\n",
       "      <td>10</td>\n",
       "      <td>60</td>\n",
       "      <td>0</td>\n",
       "      <td>0</td>\n",
       "    </tr>\n",
       "    <tr>\n",
       "      <th>2</th>\n",
       "      <td>100000.0</td>\n",
       "      <td>failed</td>\n",
       "      <td>US</td>\n",
       "      <td>False</td>\n",
       "      <td>5</td>\n",
       "      <td>120.000000</td>\n",
       "      <td>Academic</td>\n",
       "      <td>8.0</td>\n",
       "      <td>10.0</td>\n",
       "      <td>Thursday</td>\n",
       "      <td>Saturday</td>\n",
       "      <td>Sunday</td>\n",
       "      <td>1</td>\n",
       "      <td>60</td>\n",
       "      <td>0</td>\n",
       "      <td>0</td>\n",
       "    </tr>\n",
       "    <tr>\n",
       "      <th>3</th>\n",
       "      <td>5000.0</td>\n",
       "      <td>failed</td>\n",
       "      <td>US</td>\n",
       "      <td>False</td>\n",
       "      <td>0</td>\n",
       "      <td>0.000000</td>\n",
       "      <td>Academic</td>\n",
       "      <td>6.0</td>\n",
       "      <td>13.0</td>\n",
       "      <td>Monday</td>\n",
       "      <td>Friday</td>\n",
       "      <td>Saturday</td>\n",
       "      <td>0</td>\n",
       "      <td>30</td>\n",
       "      <td>0</td>\n",
       "      <td>0</td>\n",
       "    </tr>\n",
       "    <tr>\n",
       "      <th>4</th>\n",
       "      <td>3222.0</td>\n",
       "      <td>failed</td>\n",
       "      <td>DE</td>\n",
       "      <td>False</td>\n",
       "      <td>17</td>\n",
       "      <td>396.802395</td>\n",
       "      <td>Academic</td>\n",
       "      <td>7.0</td>\n",
       "      <td>18.0</td>\n",
       "      <td>Monday</td>\n",
       "      <td>Wednesday</td>\n",
       "      <td>Thursday</td>\n",
       "      <td>0</td>\n",
       "      <td>32</td>\n",
       "      <td>0</td>\n",
       "      <td>0</td>\n",
       "    </tr>\n",
       "  </tbody>\n",
       "</table>\n",
       "</div>"
      ],
      "text/plain": [
       "       goal   state country  staff_pick  backers_count  usd_pledged  category  \\\n",
       "0    1500.0  failed      US       False              0     0.000000  Academic   \n",
       "1     500.0  failed      US       False              0     0.000000  Academic   \n",
       "2  100000.0  failed      US       False              5   120.000000  Academic   \n",
       "3    5000.0  failed      US       False              0     0.000000  Academic   \n",
       "4    3222.0  failed      DE       False             17   396.802395  Academic   \n",
       "\n",
       "   name_len_clean  blurb_len_clean deadline_weekday created_at_weekday  \\\n",
       "0             9.0             16.0           Friday           Saturday   \n",
       "1             4.0             15.0           Friday             Friday   \n",
       "2             8.0             10.0         Thursday           Saturday   \n",
       "3             6.0             13.0           Monday             Friday   \n",
       "4             7.0             18.0           Monday          Wednesday   \n",
       "\n",
       "  launched_at_weekday  create_to_launch_days  launch_to_deadline_days  \\\n",
       "0           Wednesday                     17                       36   \n",
       "1              Monday                     10                       60   \n",
       "2              Sunday                      1                       60   \n",
       "3            Saturday                      0                       30   \n",
       "4            Thursday                      0                       32   \n",
       "\n",
       "   LaunchedTuesday  DeadlineWeekend  \n",
       "0                0                0  \n",
       "1                0                0  \n",
       "2                0                0  \n",
       "3                0                0  \n",
       "4                0                0  "
      ]
     },
     "execution_count": 7,
     "metadata": {},
     "output_type": "execute_result"
    }
   ],
   "source": [
    "df.head()"
   ]
  },
  {
   "cell_type": "code",
   "execution_count": 8,
   "metadata": {},
   "outputs": [
    {
     "name": "stderr",
     "output_type": "stream",
     "text": [
      "/anaconda3/lib/python3.6/site-packages/ipykernel/__main__.py:2: SettingWithCopyWarning: \n",
      "A value is trying to be set on a copy of a slice from a DataFrame.\n",
      "Try using .loc[row_indexer,col_indexer] = value instead\n",
      "\n",
      "See the caveats in the documentation: http://pandas.pydata.org/pandas-docs/stable/indexing.html#indexing-view-versus-copy\n",
      "  from ipykernel import kernelapp as app\n"
     ]
    }
   ],
   "source": [
    "scale_mapper = {\"failed\":0, \"successful\":1}\n",
    "df[\"state\"]=df[\"state\"].replace(scale_mapper)"
   ]
  },
  {
   "cell_type": "code",
   "execution_count": 9,
   "metadata": {},
   "outputs": [],
   "source": [
    "df=df.dropna(axis=0, how='any')"
   ]
  },
  {
   "cell_type": "code",
   "execution_count": null,
   "metadata": {},
   "outputs": [],
   "source": [
    "# def divide(x,y):\n",
    "#     return x/y\n",
    "# #df['pledged_to_goal']=df[['usd_pledged','goal']].apply(divide)\n",
    "# #df['pledged_to_goal']=df.apply(lambda row:lst[row['J1']:row['J2']],axis=1)\n",
    "# df['pledged_to_goal'] = df[['usd_pledged','goal']].apply(lambda x: divide(*x), axis=1)"
   ]
  },
  {
   "cell_type": "code",
   "execution_count": 10,
   "metadata": {},
   "outputs": [],
   "source": [
    "from sklearn.preprocessing import RobustScaler\n",
    "sc = RobustScaler()\n",
    "X=df[['goal']]\n",
    "X = sc.fit_transform(X)\n",
    "# import numpy as np\n",
    "# from sklearn.preprocessing import FunctionTransformer\n",
    "# sc = FunctionTransformer(np.log1p)\n",
    "# X=df['goal']\n",
    "# X= sc.transform(df[['goal']])"
   ]
  },
  {
   "cell_type": "code",
   "execution_count": 11,
   "metadata": {},
   "outputs": [
    {
     "data": {
      "text/html": [
       "<div>\n",
       "<style scoped>\n",
       "    .dataframe tbody tr th:only-of-type {\n",
       "        vertical-align: middle;\n",
       "    }\n",
       "\n",
       "    .dataframe tbody tr th {\n",
       "        vertical-align: top;\n",
       "    }\n",
       "\n",
       "    .dataframe thead th {\n",
       "        text-align: right;\n",
       "    }\n",
       "</style>\n",
       "<table border=\"1\" class=\"dataframe\">\n",
       "  <thead>\n",
       "    <tr style=\"text-align: right;\">\n",
       "      <th></th>\n",
       "      <th>goal</th>\n",
       "      <th>state</th>\n",
       "      <th>country</th>\n",
       "      <th>staff_pick</th>\n",
       "      <th>backers_count</th>\n",
       "      <th>usd_pledged</th>\n",
       "      <th>category</th>\n",
       "      <th>name_len_clean</th>\n",
       "      <th>blurb_len_clean</th>\n",
       "      <th>deadline_weekday</th>\n",
       "      <th>created_at_weekday</th>\n",
       "      <th>launched_at_weekday</th>\n",
       "      <th>create_to_launch_days</th>\n",
       "      <th>launch_to_deadline_days</th>\n",
       "      <th>LaunchedTuesday</th>\n",
       "      <th>DeadlineWeekend</th>\n",
       "    </tr>\n",
       "  </thead>\n",
       "  <tbody>\n",
       "    <tr>\n",
       "      <th>0</th>\n",
       "      <td>1500.0</td>\n",
       "      <td>0</td>\n",
       "      <td>US</td>\n",
       "      <td>False</td>\n",
       "      <td>0</td>\n",
       "      <td>0.000000</td>\n",
       "      <td>Academic</td>\n",
       "      <td>9.0</td>\n",
       "      <td>16.0</td>\n",
       "      <td>Friday</td>\n",
       "      <td>Saturday</td>\n",
       "      <td>Wednesday</td>\n",
       "      <td>17</td>\n",
       "      <td>36</td>\n",
       "      <td>0</td>\n",
       "      <td>0</td>\n",
       "    </tr>\n",
       "    <tr>\n",
       "      <th>1</th>\n",
       "      <td>500.0</td>\n",
       "      <td>0</td>\n",
       "      <td>US</td>\n",
       "      <td>False</td>\n",
       "      <td>0</td>\n",
       "      <td>0.000000</td>\n",
       "      <td>Academic</td>\n",
       "      <td>4.0</td>\n",
       "      <td>15.0</td>\n",
       "      <td>Friday</td>\n",
       "      <td>Friday</td>\n",
       "      <td>Monday</td>\n",
       "      <td>10</td>\n",
       "      <td>60</td>\n",
       "      <td>0</td>\n",
       "      <td>0</td>\n",
       "    </tr>\n",
       "    <tr>\n",
       "      <th>2</th>\n",
       "      <td>100000.0</td>\n",
       "      <td>0</td>\n",
       "      <td>US</td>\n",
       "      <td>False</td>\n",
       "      <td>5</td>\n",
       "      <td>120.000000</td>\n",
       "      <td>Academic</td>\n",
       "      <td>8.0</td>\n",
       "      <td>10.0</td>\n",
       "      <td>Thursday</td>\n",
       "      <td>Saturday</td>\n",
       "      <td>Sunday</td>\n",
       "      <td>1</td>\n",
       "      <td>60</td>\n",
       "      <td>0</td>\n",
       "      <td>0</td>\n",
       "    </tr>\n",
       "    <tr>\n",
       "      <th>3</th>\n",
       "      <td>5000.0</td>\n",
       "      <td>0</td>\n",
       "      <td>US</td>\n",
       "      <td>False</td>\n",
       "      <td>0</td>\n",
       "      <td>0.000000</td>\n",
       "      <td>Academic</td>\n",
       "      <td>6.0</td>\n",
       "      <td>13.0</td>\n",
       "      <td>Monday</td>\n",
       "      <td>Friday</td>\n",
       "      <td>Saturday</td>\n",
       "      <td>0</td>\n",
       "      <td>30</td>\n",
       "      <td>0</td>\n",
       "      <td>0</td>\n",
       "    </tr>\n",
       "    <tr>\n",
       "      <th>4</th>\n",
       "      <td>3222.0</td>\n",
       "      <td>0</td>\n",
       "      <td>DE</td>\n",
       "      <td>False</td>\n",
       "      <td>17</td>\n",
       "      <td>396.802395</td>\n",
       "      <td>Academic</td>\n",
       "      <td>7.0</td>\n",
       "      <td>18.0</td>\n",
       "      <td>Monday</td>\n",
       "      <td>Wednesday</td>\n",
       "      <td>Thursday</td>\n",
       "      <td>0</td>\n",
       "      <td>32</td>\n",
       "      <td>0</td>\n",
       "      <td>0</td>\n",
       "    </tr>\n",
       "  </tbody>\n",
       "</table>\n",
       "</div>"
      ],
      "text/plain": [
       "       goal  state country  staff_pick  backers_count  usd_pledged  category  \\\n",
       "0    1500.0      0      US       False              0     0.000000  Academic   \n",
       "1     500.0      0      US       False              0     0.000000  Academic   \n",
       "2  100000.0      0      US       False              5   120.000000  Academic   \n",
       "3    5000.0      0      US       False              0     0.000000  Academic   \n",
       "4    3222.0      0      DE       False             17   396.802395  Academic   \n",
       "\n",
       "   name_len_clean  blurb_len_clean deadline_weekday created_at_weekday  \\\n",
       "0             9.0             16.0           Friday           Saturday   \n",
       "1             4.0             15.0           Friday             Friday   \n",
       "2             8.0             10.0         Thursday           Saturday   \n",
       "3             6.0             13.0           Monday             Friday   \n",
       "4             7.0             18.0           Monday          Wednesday   \n",
       "\n",
       "  launched_at_weekday  create_to_launch_days  launch_to_deadline_days  \\\n",
       "0           Wednesday                     17                       36   \n",
       "1              Monday                     10                       60   \n",
       "2              Sunday                      1                       60   \n",
       "3            Saturday                      0                       30   \n",
       "4            Thursday                      0                       32   \n",
       "\n",
       "   LaunchedTuesday  DeadlineWeekend  \n",
       "0                0                0  \n",
       "1                0                0  \n",
       "2                0                0  \n",
       "3                0                0  \n",
       "4                0                0  "
      ]
     },
     "execution_count": 11,
     "metadata": {},
     "output_type": "execute_result"
    }
   ],
   "source": [
    "df.head()"
   ]
  },
  {
   "cell_type": "code",
   "execution_count": 12,
   "metadata": {},
   "outputs": [],
   "source": [
    "df[['goal']]=X"
   ]
  },
  {
   "cell_type": "code",
   "execution_count": null,
   "metadata": {},
   "outputs": [],
   "source": [
    "# sc = FunctionTransformer(np.log1p)\n",
    "# X=df['usd_pledged']\n",
    "# X= sc.transform(df[['usd_pledged']])"
   ]
  },
  {
   "cell_type": "code",
   "execution_count": null,
   "metadata": {},
   "outputs": [],
   "source": [
    "#df[['usd_pledged']]=X"
   ]
  },
  {
   "cell_type": "code",
   "execution_count": 13,
   "metadata": {},
   "outputs": [],
   "source": [
    "df[\"staff_pick\"]=df[\"staff_pick\"].astype(int)"
   ]
  },
  {
   "cell_type": "code",
   "execution_count": 14,
   "metadata": {},
   "outputs": [
    {
     "data": {
      "text/plain": [
       "array([0, 1])"
      ]
     },
     "execution_count": 14,
     "metadata": {},
     "output_type": "execute_result"
    }
   ],
   "source": [
    "df.staff_pick.unique()"
   ]
  },
  {
   "cell_type": "code",
   "execution_count": 15,
   "metadata": {},
   "outputs": [
    {
     "data": {
      "text/html": [
       "<div>\n",
       "<style scoped>\n",
       "    .dataframe tbody tr th:only-of-type {\n",
       "        vertical-align: middle;\n",
       "    }\n",
       "\n",
       "    .dataframe tbody tr th {\n",
       "        vertical-align: top;\n",
       "    }\n",
       "\n",
       "    .dataframe thead th {\n",
       "        text-align: right;\n",
       "    }\n",
       "</style>\n",
       "<table border=\"1\" class=\"dataframe\">\n",
       "  <thead>\n",
       "    <tr style=\"text-align: right;\">\n",
       "      <th></th>\n",
       "      <th>goal</th>\n",
       "      <th>state</th>\n",
       "      <th>country</th>\n",
       "      <th>staff_pick</th>\n",
       "      <th>backers_count</th>\n",
       "      <th>usd_pledged</th>\n",
       "      <th>category</th>\n",
       "      <th>name_len_clean</th>\n",
       "      <th>blurb_len_clean</th>\n",
       "      <th>deadline_weekday</th>\n",
       "      <th>created_at_weekday</th>\n",
       "      <th>launched_at_weekday</th>\n",
       "      <th>create_to_launch_days</th>\n",
       "      <th>launch_to_deadline_days</th>\n",
       "      <th>LaunchedTuesday</th>\n",
       "      <th>DeadlineWeekend</th>\n",
       "    </tr>\n",
       "  </thead>\n",
       "  <tbody>\n",
       "    <tr>\n",
       "      <th>0</th>\n",
       "      <td>-0.287671</td>\n",
       "      <td>0</td>\n",
       "      <td>US</td>\n",
       "      <td>0</td>\n",
       "      <td>0</td>\n",
       "      <td>0.000000</td>\n",
       "      <td>Academic</td>\n",
       "      <td>9.0</td>\n",
       "      <td>16.0</td>\n",
       "      <td>Friday</td>\n",
       "      <td>Saturday</td>\n",
       "      <td>Wednesday</td>\n",
       "      <td>17</td>\n",
       "      <td>36</td>\n",
       "      <td>0</td>\n",
       "      <td>0</td>\n",
       "    </tr>\n",
       "    <tr>\n",
       "      <th>1</th>\n",
       "      <td>-0.315068</td>\n",
       "      <td>0</td>\n",
       "      <td>US</td>\n",
       "      <td>0</td>\n",
       "      <td>0</td>\n",
       "      <td>0.000000</td>\n",
       "      <td>Academic</td>\n",
       "      <td>4.0</td>\n",
       "      <td>15.0</td>\n",
       "      <td>Friday</td>\n",
       "      <td>Friday</td>\n",
       "      <td>Monday</td>\n",
       "      <td>10</td>\n",
       "      <td>60</td>\n",
       "      <td>0</td>\n",
       "      <td>0</td>\n",
       "    </tr>\n",
       "    <tr>\n",
       "      <th>2</th>\n",
       "      <td>2.410959</td>\n",
       "      <td>0</td>\n",
       "      <td>US</td>\n",
       "      <td>0</td>\n",
       "      <td>5</td>\n",
       "      <td>120.000000</td>\n",
       "      <td>Academic</td>\n",
       "      <td>8.0</td>\n",
       "      <td>10.0</td>\n",
       "      <td>Thursday</td>\n",
       "      <td>Saturday</td>\n",
       "      <td>Sunday</td>\n",
       "      <td>1</td>\n",
       "      <td>60</td>\n",
       "      <td>0</td>\n",
       "      <td>0</td>\n",
       "    </tr>\n",
       "    <tr>\n",
       "      <th>3</th>\n",
       "      <td>-0.191781</td>\n",
       "      <td>0</td>\n",
       "      <td>US</td>\n",
       "      <td>0</td>\n",
       "      <td>0</td>\n",
       "      <td>0.000000</td>\n",
       "      <td>Academic</td>\n",
       "      <td>6.0</td>\n",
       "      <td>13.0</td>\n",
       "      <td>Monday</td>\n",
       "      <td>Friday</td>\n",
       "      <td>Saturday</td>\n",
       "      <td>0</td>\n",
       "      <td>30</td>\n",
       "      <td>0</td>\n",
       "      <td>0</td>\n",
       "    </tr>\n",
       "    <tr>\n",
       "      <th>4</th>\n",
       "      <td>-0.240493</td>\n",
       "      <td>0</td>\n",
       "      <td>DE</td>\n",
       "      <td>0</td>\n",
       "      <td>17</td>\n",
       "      <td>396.802395</td>\n",
       "      <td>Academic</td>\n",
       "      <td>7.0</td>\n",
       "      <td>18.0</td>\n",
       "      <td>Monday</td>\n",
       "      <td>Wednesday</td>\n",
       "      <td>Thursday</td>\n",
       "      <td>0</td>\n",
       "      <td>32</td>\n",
       "      <td>0</td>\n",
       "      <td>0</td>\n",
       "    </tr>\n",
       "  </tbody>\n",
       "</table>\n",
       "</div>"
      ],
      "text/plain": [
       "       goal  state country  staff_pick  backers_count  usd_pledged  category  \\\n",
       "0 -0.287671      0      US           0              0     0.000000  Academic   \n",
       "1 -0.315068      0      US           0              0     0.000000  Academic   \n",
       "2  2.410959      0      US           0              5   120.000000  Academic   \n",
       "3 -0.191781      0      US           0              0     0.000000  Academic   \n",
       "4 -0.240493      0      DE           0             17   396.802395  Academic   \n",
       "\n",
       "   name_len_clean  blurb_len_clean deadline_weekday created_at_weekday  \\\n",
       "0             9.0             16.0           Friday           Saturday   \n",
       "1             4.0             15.0           Friday             Friday   \n",
       "2             8.0             10.0         Thursday           Saturday   \n",
       "3             6.0             13.0           Monday             Friday   \n",
       "4             7.0             18.0           Monday          Wednesday   \n",
       "\n",
       "  launched_at_weekday  create_to_launch_days  launch_to_deadline_days  \\\n",
       "0           Wednesday                     17                       36   \n",
       "1              Monday                     10                       60   \n",
       "2              Sunday                      1                       60   \n",
       "3            Saturday                      0                       30   \n",
       "4            Thursday                      0                       32   \n",
       "\n",
       "   LaunchedTuesday  DeadlineWeekend  \n",
       "0                0                0  \n",
       "1                0                0  \n",
       "2                0                0  \n",
       "3                0                0  \n",
       "4                0                0  "
      ]
     },
     "execution_count": 15,
     "metadata": {},
     "output_type": "execute_result"
    }
   ],
   "source": [
    "df.head()"
   ]
  },
  {
   "cell_type": "code",
   "execution_count": 16,
   "metadata": {},
   "outputs": [
    {
     "data": {
      "text/plain": [
       "<matplotlib.axes._subplots.AxesSubplot at 0x11577d320>"
      ]
     },
     "execution_count": 16,
     "metadata": {},
     "output_type": "execute_result"
    },
    {
     "data": {
      "image/png": "[encoded data removed]",
      "text/plain": [
       "<matplotlib.figure.Figure at 0x115767128>"
      ]
     },
     "metadata": {},
     "output_type": "display_data"
    }
   ],
   "source": [
    "%matplotlib inline\n",
    "df.goal.plot()"
   ]
  },
  {
   "cell_type": "markdown",
   "metadata": {},
   "source": [
    "> Dummpy variable created."
   ]
  },
  {
   "cell_type": "code",
   "execution_count": null,
   "metadata": {},
   "outputs": [],
   "source": [
    "df.dtypes"
   ]
  },
  {
   "cell_type": "code",
   "execution_count": 17,
   "metadata": {},
   "outputs": [
    {
     "data": {
      "text/plain": [
       "(15787, 76)"
      ]
     },
     "execution_count": 17,
     "metadata": {},
     "output_type": "execute_result"
    }
   ],
   "source": [
    "df = pd.get_dummies(df, columns=['country'])\n",
    "df = pd.get_dummies(df, columns=['category'])\n",
    "df = pd.get_dummies(df, columns=['deadline_weekday'])\n",
    "df = pd.get_dummies(df, columns=['created_at_weekday'])\n",
    "df = pd.get_dummies(df, columns=['launched_at_weekday'])\n",
    "df.shape"
   ]
  },
  {
   "cell_type": "code",
   "execution_count": 18,
   "metadata": {},
   "outputs": [
    {
     "data": {
      "text/html": [
       "<div>\n",
       "<style scoped>\n",
       "    .dataframe tbody tr th:only-of-type {\n",
       "        vertical-align: middle;\n",
       "    }\n",
       "\n",
       "    .dataframe tbody tr th {\n",
       "        vertical-align: top;\n",
       "    }\n",
       "\n",
       "    .dataframe thead th {\n",
       "        text-align: right;\n",
       "    }\n",
       "</style>\n",
       "<table border=\"1\" class=\"dataframe\">\n",
       "  <thead>\n",
       "    <tr style=\"text-align: right;\">\n",
       "      <th></th>\n",
       "      <th>goal</th>\n",
       "      <th>state</th>\n",
       "      <th>staff_pick</th>\n",
       "      <th>backers_count</th>\n",
       "      <th>usd_pledged</th>\n",
       "      <th>name_len_clean</th>\n",
       "      <th>blurb_len_clean</th>\n",
       "      <th>create_to_launch_days</th>\n",
       "      <th>launch_to_deadline_days</th>\n",
       "      <th>LaunchedTuesday</th>\n",
       "      <th>...</th>\n",
       "      <th>created_at_weekday_Thursday</th>\n",
       "      <th>created_at_weekday_Tuesday</th>\n",
       "      <th>created_at_weekday_Wednesday</th>\n",
       "      <th>launched_at_weekday_Friday</th>\n",
       "      <th>launched_at_weekday_Monday</th>\n",
       "      <th>launched_at_weekday_Saturday</th>\n",
       "      <th>launched_at_weekday_Sunday</th>\n",
       "      <th>launched_at_weekday_Thursday</th>\n",
       "      <th>launched_at_weekday_Tuesday</th>\n",
       "      <th>launched_at_weekday_Wednesday</th>\n",
       "    </tr>\n",
       "  </thead>\n",
       "  <tbody>\n",
       "    <tr>\n",
       "      <th>0</th>\n",
       "      <td>-0.287671</td>\n",
       "      <td>0</td>\n",
       "      <td>0</td>\n",
       "      <td>0</td>\n",
       "      <td>0.000000</td>\n",
       "      <td>9.0</td>\n",
       "      <td>16.0</td>\n",
       "      <td>17</td>\n",
       "      <td>36</td>\n",
       "      <td>0</td>\n",
       "      <td>...</td>\n",
       "      <td>0</td>\n",
       "      <td>0</td>\n",
       "      <td>0</td>\n",
       "      <td>0</td>\n",
       "      <td>0</td>\n",
       "      <td>0</td>\n",
       "      <td>0</td>\n",
       "      <td>0</td>\n",
       "      <td>0</td>\n",
       "      <td>1</td>\n",
       "    </tr>\n",
       "    <tr>\n",
       "      <th>1</th>\n",
       "      <td>-0.315068</td>\n",
       "      <td>0</td>\n",
       "      <td>0</td>\n",
       "      <td>0</td>\n",
       "      <td>0.000000</td>\n",
       "      <td>4.0</td>\n",
       "      <td>15.0</td>\n",
       "      <td>10</td>\n",
       "      <td>60</td>\n",
       "      <td>0</td>\n",
       "      <td>...</td>\n",
       "      <td>0</td>\n",
       "      <td>0</td>\n",
       "      <td>0</td>\n",
       "      <td>0</td>\n",
       "      <td>1</td>\n",
       "      <td>0</td>\n",
       "      <td>0</td>\n",
       "      <td>0</td>\n",
       "      <td>0</td>\n",
       "      <td>0</td>\n",
       "    </tr>\n",
       "    <tr>\n",
       "      <th>2</th>\n",
       "      <td>2.410959</td>\n",
       "      <td>0</td>\n",
       "      <td>0</td>\n",
       "      <td>5</td>\n",
       "      <td>120.000000</td>\n",
       "      <td>8.0</td>\n",
       "      <td>10.0</td>\n",
       "      <td>1</td>\n",
       "      <td>60</td>\n",
       "      <td>0</td>\n",
       "      <td>...</td>\n",
       "      <td>0</td>\n",
       "      <td>0</td>\n",
       "      <td>0</td>\n",
       "      <td>0</td>\n",
       "      <td>0</td>\n",
       "      <td>0</td>\n",
       "      <td>1</td>\n",
       "      <td>0</td>\n",
       "      <td>0</td>\n",
       "      <td>0</td>\n",
       "    </tr>\n",
       "    <tr>\n",
       "      <th>3</th>\n",
       "      <td>-0.191781</td>\n",
       "      <td>0</td>\n",
       "      <td>0</td>\n",
       "      <td>0</td>\n",
       "      <td>0.000000</td>\n",
       "      <td>6.0</td>\n",
       "      <td>13.0</td>\n",
       "      <td>0</td>\n",
       "      <td>30</td>\n",
       "      <td>0</td>\n",
       "      <td>...</td>\n",
       "      <td>0</td>\n",
       "      <td>0</td>\n",
       "      <td>0</td>\n",
       "      <td>0</td>\n",
       "      <td>0</td>\n",
       "      <td>1</td>\n",
       "      <td>0</td>\n",
       "      <td>0</td>\n",
       "      <td>0</td>\n",
       "      <td>0</td>\n",
       "    </tr>\n",
       "    <tr>\n",
       "      <th>4</th>\n",
       "      <td>-0.240493</td>\n",
       "      <td>0</td>\n",
       "      <td>0</td>\n",
       "      <td>17</td>\n",
       "      <td>396.802395</td>\n",
       "      <td>7.0</td>\n",
       "      <td>18.0</td>\n",
       "      <td>0</td>\n",
       "      <td>32</td>\n",
       "      <td>0</td>\n",
       "      <td>...</td>\n",
       "      <td>0</td>\n",
       "      <td>0</td>\n",
       "      <td>1</td>\n",
       "      <td>0</td>\n",
       "      <td>0</td>\n",
       "      <td>0</td>\n",
       "      <td>0</td>\n",
       "      <td>1</td>\n",
       "      <td>0</td>\n",
       "      <td>0</td>\n",
       "    </tr>\n",
       "  </tbody>\n",
       "</table>\n",
       "<p>5 rows × 76 columns</p>\n",
       "</div>"
      ],
      "text/plain": [
       "       goal  state  staff_pick  backers_count  usd_pledged  name_len_clean  \\\n",
       "0 -0.287671      0           0              0     0.000000             9.0   \n",
       "1 -0.315068      0           0              0     0.000000             4.0   \n",
       "2  2.410959      0           0              5   120.000000             8.0   \n",
       "3 -0.191781      0           0              0     0.000000             6.0   \n",
       "4 -0.240493      0           0             17   396.802395             7.0   \n",
       "\n",
       "   blurb_len_clean  create_to_launch_days  launch_to_deadline_days  \\\n",
       "0             16.0                     17                       36   \n",
       "1             15.0                     10                       60   \n",
       "2             10.0                      1                       60   \n",
       "3             13.0                      0                       30   \n",
       "4             18.0                      0                       32   \n",
       "\n",
       "   LaunchedTuesday              ...                \\\n",
       "0                0              ...                 \n",
       "1                0              ...                 \n",
       "2                0              ...                 \n",
       "3                0              ...                 \n",
       "4                0              ...                 \n",
       "\n",
       "   created_at_weekday_Thursday  created_at_weekday_Tuesday  \\\n",
       "0                            0                           0   \n",
       "1                            0                           0   \n",
       "2                            0                           0   \n",
       "3                            0                           0   \n",
       "4                            0                           0   \n",
       "\n",
       "   created_at_weekday_Wednesday  launched_at_weekday_Friday  \\\n",
       "0                             0                           0   \n",
       "1                             0                           0   \n",
       "2                             0                           0   \n",
       "3                             0                           0   \n",
       "4                             1                           0   \n",
       "\n",
       "   launched_at_weekday_Monday  launched_at_weekday_Saturday  \\\n",
       "0                           0                             0   \n",
       "1                           1                             0   \n",
       "2                           0                             0   \n",
       "3                           0                             1   \n",
       "4                           0                             0   \n",
       "\n",
       "   launched_at_weekday_Sunday  launched_at_weekday_Thursday  \\\n",
       "0                           0                             0   \n",
       "1                           0                             0   \n",
       "2                           1                             0   \n",
       "3                           0                             0   \n",
       "4                           0                             1   \n",
       "\n",
       "   launched_at_weekday_Tuesday  launched_at_weekday_Wednesday  \n",
       "0                            0                              1  \n",
       "1                            0                              0  \n",
       "2                            0                              0  \n",
       "3                            0                              0  \n",
       "4                            0                              0  \n",
       "\n",
       "[5 rows x 76 columns]"
      ]
     },
     "execution_count": 18,
     "metadata": {},
     "output_type": "execute_result"
    }
   ],
   "source": [
    "df.head()"
   ]
  },
  {
   "cell_type": "markdown",
   "metadata": {},
   "source": [
    "-----"
   ]
  },
  {
   "cell_type": "code",
   "execution_count": 19,
   "metadata": {},
   "outputs": [],
   "source": [
    "from sklearn.model_selection import train_test_split\n",
    "y = df.state\n",
    "X=df.drop(['state','usd_pledged'],axis=1)\n",
    "X_train, X_test, y_train, y_test = train_test_split(X, y, \n",
    "                                                    test_size=0.2, \n",
    "                                                    random_state=1234,\n",
    "                                                    stratify=df.state)"
   ]
  },
  {
   "cell_type": "markdown",
   "metadata": {},
   "source": [
    "---"
   ]
  },
  {
   "cell_type": "code",
   "execution_count": 20,
   "metadata": {},
   "outputs": [],
   "source": [
    "# Import confusion_matrix\n",
    "from sklearn.metrics import confusion_matrix\n",
    "from sklearn.metrics import roc_curve, auc\n",
    "from confusion_matrix import plot_confusion_matrix, show_confusion_matrix\n",
    "from confusion_matrix import plot_roc_curve"
   ]
  },
  {
   "cell_type": "markdown",
   "metadata": {},
   "source": [
    "---"
   ]
  },
  {
   "cell_type": "code",
   "execution_count": 21,
   "metadata": {},
   "outputs": [
    {
     "data": {
      "text/plain": [
       "GradientBoostingClassifier(criterion='friedman_mse', init=None,\n",
       "              learning_rate=0.1, loss='deviance', max_depth=3,\n",
       "              max_features=None, max_leaf_nodes=None,\n",
       "              min_impurity_decrease=0.0, min_impurity_split=None,\n",
       "              min_samples_leaf=1, min_samples_split=2,\n",
       "              min_weight_fraction_leaf=0.0, n_estimators=100,\n",
       "              presort='auto', random_state=0, subsample=1.0, verbose=0,\n",
       "              warm_start=False)"
      ]
     },
     "execution_count": 21,
     "metadata": {},
     "output_type": "execute_result"
    }
   ],
   "source": [
    "# Import RandomForestClassifier and GradientBoostingClassifer\n",
    "from sklearn.ensemble import GradientBoostingClassifier\n",
    "classifier = GradientBoostingClassifier(random_state = 0)\n",
    "classifier.fit(X_train, y_train)"
   ]
  },
  {
   "cell_type": "code",
   "execution_count": null,
   "metadata": {},
   "outputs": [],
   "source": []
  },
  {
   "cell_type": "code",
   "execution_count": 22,
   "metadata": {},
   "outputs": [
    {
     "name": "stdout",
     "output_type": "stream",
     "text": [
      "classifier score 0.9259024699176694\n",
      "Confusion Matrix\n",
      "[[1993  121]\n",
      " [ 113  931]]\n"
     ]
    },
    {
     "data": {
      "image/png": "[encoded data removed]",
      "text/plain": [
       "<matplotlib.figure.Figure at 0x1188d7cf8>"
      ]
     },
     "metadata": {},
     "output_type": "display_data"
    },
    {
     "data": {
      "image/png": "[encoded data removed]",
      "text/plain": [
       "<matplotlib.figure.Figure at 0x1188cacc0>"
      ]
     },
     "metadata": {},
     "output_type": "display_data"
    },
    {
     "data": {
      "image/png": "[encoded data removed]",
      "text/plain": [
       "<matplotlib.figure.Figure at 0x118c0be10>"
      ]
     },
     "metadata": {},
     "output_type": "display_data"
    },
    {
     "name": "stdout",
     "output_type": "stream",
     "text": [
      "Area under ROC curve 0.9793064481634931\n"
     ]
    }
   ],
   "source": [
    "# Predicting the Test set results\n",
    "y_pred = classifier.predict(X_test)\n",
    "print('classifier score',classifier.score(X_test, y_test))\n",
    "# Display confusion matrix for y_test and pred\n",
    "cm=confusion_matrix(y_test, y_pred)\n",
    "print('Confusion Matrix')\n",
    "print(cm)\n",
    "# Predict PROBABILITIES using regularized KNN\n",
    "pred_prob = classifier.predict_proba(X_test)\n",
    "# Get just the prediction for the positive class (1)\n",
    "pred= [p[1] for p in pred_prob]\n",
    "fpr, tpr, thresholds = roc_curve(y_test, pred)\n",
    "plot_confusion_matrix(cm, \n",
    "                      normalize    = False,\n",
    "                      target_names = ['Failure', 'Sucess'],\n",
    "                      title        = \"Confusion Matrix\")\n",
    "show_confusion_matrix(cm, ['Failure', 'Success'])\n",
    "plot_roc_curve(fpr, tpr,'GradientBoosting')\n",
    "print ('Area under ROC curve',auc(fpr, tpr))"
   ]
  },
  {
   "cell_type": "code",
   "execution_count": 23,
   "metadata": {},
   "outputs": [
    {
     "name": "stdout",
     "output_type": "stream",
     "text": [
      "[36 33 28 39 40 44 48 22 21 52 54 55 17 30 58 59 68 67 65 64 63 14 62  8\n",
      "  9 10 61 60 32 56  7 26 73 66 69 29 16 57 72 53 49 71 20 42 11 50 70 51\n",
      " 15  1 12 45 24 34 27 19 25 13 47 18  3 35  4  6 31  5 38 43 41 46 23 37\n",
      "  0  2]\n"
     ]
    },
    {
     "data": {
      "text/plain": [
       "Index(['category_Flight', 'category_Comedy', 'country_SG',\n",
       "       'category_Immersive', 'category_Makerspaces', 'category_Robots',\n",
       "       'category_Spaces', 'country_LU', 'country_IT', 'category_Webseries',\n",
       "       'deadline_weekday_Monday', 'deadline_weekday_Saturday', 'country_FR',\n",
       "       'category_Academic', 'deadline_weekday_Tuesday',\n",
       "       'deadline_weekday_Wednesday', 'launched_at_weekday_Monday',\n",
       "       'launched_at_weekday_Friday', 'created_at_weekday_Tuesday',\n",
       "       'created_at_weekday_Thursday', 'created_at_weekday_Sunday',\n",
       "       'country_DE', 'created_at_weekday_Saturday', 'DeadlineWeekend',\n",
       "       'country_AT', 'country_AU', 'created_at_weekday_Monday',\n",
       "       'created_at_weekday_Friday', 'category_Blues',\n",
       "       'deadline_weekday_Sunday', 'LaunchedTuesday', 'country_NZ',\n",
       "       'launched_at_weekday_Wednesday', 'created_at_weekday_Wednesday',\n",
       "       'launched_at_weekday_Saturday', 'country_US', 'country_ES',\n",
       "       'deadline_weekday_Thursday', 'launched_at_weekday_Tuesday',\n",
       "       'deadline_weekday_Friday', 'category_Thrillers',\n",
       "       'launched_at_weekday_Thursday', 'country_IE', 'category_Places',\n",
       "       'country_BE', 'category_Wearables', 'launched_at_weekday_Sunday',\n",
       "       'category_Web', 'country_DK', 'staff_pick', 'country_CA',\n",
       "       'category_Shorts', 'country_NL', 'category_Experimental', 'country_SE',\n",
       "       'country_HK', 'country_NO', 'country_CH', 'category_Sound',\n",
       "       'country_GB', 'name_len_clean', 'category_Festivals', 'blurb_len_clean',\n",
       "       'launch_to_deadline_days', 'category_Apps', 'create_to_launch_days',\n",
       "       'category_Hardware', 'category_Plays', 'category_Musical',\n",
       "       'category_Software', 'country_MX', 'category_Gadgets', 'goal',\n",
       "       'backers_count'],\n",
       "      dtype='object')"
      ]
     },
     "execution_count": 23,
     "metadata": {},
     "output_type": "execute_result"
    }
   ],
   "source": [
    "import numpy as np\n",
    "import matplotlib.pyplot as plt\n",
    "%matplotlib inline\n",
    "# Plot feature importance\n",
    "feature_importance = classifier.feature_importances_\n",
    "# make importances relative to max importance\n",
    "feature_importance = 100.0 * (feature_importance / feature_importance.max())\n",
    "sorted_idx = np.argsort(feature_importance)\n",
    "pos = np.arange(sorted_idx.shape[0]) + .5\n",
    "print(sorted_idx)\n",
    "X_train.columns[sorted_idx]\n",
    "#plt.subplot(1, 2, 2)\n",
    "#plt.barh(pos, feature_importance[sorted_idx], align='center')\n",
    "# plt.yticks(pos, X_train.columns[sorted_idx])\n",
    "# plt.xlabel('Relative Importance')\n",
    "# plt.title('Variable Importance')\n",
    "# plt.show()"
   ]
  },
  {
   "cell_type": "markdown",
   "metadata": {},
   "source": [
    "----"
   ]
  },
  {
   "cell_type": "markdown",
   "metadata": {},
   "source": [
    "Lets save the model for later use"
   ]
  },
  {
   "cell_type": "code",
   "execution_count": 24,
   "metadata": {},
   "outputs": [],
   "source": [
    "# Import Logistic regression libraries\n",
    "from sklearn.linear_model import LogisticRegression\n",
    "#logistic = LogisticRegression()\n",
    "logistic = LogisticRegression(penalty='l2')\n",
    "logistic_model=logistic.fit(X_train, y_train)"
   ]
  },
  {
   "cell_type": "code",
   "execution_count": 25,
   "metadata": {},
   "outputs": [
    {
     "name": "stdout",
     "output_type": "stream",
     "text": [
      "classifier score 0.9259024699176694\n",
      "Confusion Matrix\n",
      "[[1993  121]\n",
      " [ 113  931]]\n"
     ]
    },
    {
     "data": {
      "image/png": "[encoded data removed]",
      "text/plain": [
       "<matplotlib.figure.Figure at 0x11967b3c8>"
      ]
     },
     "metadata": {},
     "output_type": "display_data"
    },
    {
     "data": {
      "image/png": "[encoded data removed]",
      "text/plain": [
       "<matplotlib.figure.Figure at 0x118ffaf60>"
      ]
     },
     "metadata": {},
     "output_type": "display_data"
    },
    {
     "data": {
      "image/png": "[encoded data removed]",
      "text/plain": [
       "<matplotlib.figure.Figure at 0x118a94f98>"
      ]
     },
     "metadata": {},
     "output_type": "display_data"
    },
    {
     "name": "stdout",
     "output_type": "stream",
     "text": [
      "Area under ROC curve 0.9793064481634931\n"
     ]
    }
   ],
   "source": [
    "# Predicting the Test set results\n",
    "y_pred = classifier.predict(X_test)\n",
    "print('classifier score',classifier.score(X_test, y_test))\n",
    "# Display confusion matrix for y_test and pred\n",
    "cm=confusion_matrix(y_test, y_pred)\n",
    "print('Confusion Matrix')\n",
    "print(cm)\n",
    "# Predict PROBABILITIES using regularized KNN\n",
    "pred_prob = classifier.predict_proba(X_test)\n",
    "# Get just the prediction for the positive class (1)\n",
    "pred= [p[1] for p in pred_prob]\n",
    "fpr, tpr, thresholds = roc_curve(y_test, pred)\n",
    "plot_confusion_matrix(cm, \n",
    "                      normalize    = False,\n",
    "                      target_names = ['Failure', 'Sucess'],\n",
    "                      title        = \"Confusion Matrix\")\n",
    "show_confusion_matrix(cm, ['Failure', 'Success'])\n",
    "plot_roc_curve(fpr, tpr,'GradientBoosting')\n",
    "print ('Area under ROC curve',auc(fpr, tpr))"
   ]
  },
  {
   "cell_type": "code",
   "execution_count": 26,
   "metadata": {},
   "outputs": [
    {
     "data": {
      "text/plain": [
       "DecisionTreeClassifier(class_weight=None, criterion='entropy', max_depth=None,\n",
       "            max_features=None, max_leaf_nodes=None,\n",
       "            min_impurity_decrease=0.0, min_impurity_split=None,\n",
       "            min_samples_leaf=1, min_samples_split=2,\n",
       "            min_weight_fraction_leaf=0.0, presort=False, random_state=0,\n",
       "            splitter='best')"
      ]
     },
     "execution_count": 26,
     "metadata": {},
     "output_type": "execute_result"
    }
   ],
   "source": [
    "from sklearn.tree import DecisionTreeClassifier\n",
    "classifier = DecisionTreeClassifier(criterion = 'entropy', random_state = 0)\n",
    "classifier.fit(X_train, y_train.values.ravel())"
   ]
  },
  {
   "cell_type": "code",
   "execution_count": 27,
   "metadata": {},
   "outputs": [
    {
     "name": "stdout",
     "output_type": "stream",
     "text": [
      "classifier score 0.8847371754274858\n",
      "Confusion Matrix\n",
      "[[1944  170]\n",
      " [ 194  850]]\n"
     ]
    },
    {
     "data": {
      "image/png": "[encoded data removed]",
      "text/plain": [
       "<matplotlib.figure.Figure at 0x118ffafd0>"
      ]
     },
     "metadata": {},
     "output_type": "display_data"
    },
    {
     "data": {
      "image/png": "[encoded data removed]",
      "text/plain": [
       "<matplotlib.figure.Figure at 0x118ffad68>"
      ]
     },
     "metadata": {},
     "output_type": "display_data"
    },
    {
     "data": {
      "image/png": "[encoded data removed]",
      "text/plain": [
       "<matplotlib.figure.Figure at 0x118615c18>"
      ]
     },
     "metadata": {},
     "output_type": "display_data"
    },
    {
     "name": "stdout",
     "output_type": "stream",
     "text": [
      "Area under ROC curve 0.8668799863707376\n"
     ]
    }
   ],
   "source": [
    "# Predicting the Test set results\n",
    "y_pred = classifier.predict(X_test)\n",
    "print('classifier score',classifier.score(X_test, y_test))\n",
    "# Display confusion matrix for y_test and pred\n",
    "cm=confusion_matrix(y_test, y_pred)\n",
    "print('Confusion Matrix')\n",
    "print(cm)\n",
    "# Predict PROBABILITIES using regularized KNN\n",
    "pred_prob = classifier.predict_proba(X_test)\n",
    "# Get just the prediction for the positive class (1)\n",
    "pred= [p[1] for p in pred_prob]\n",
    "fpr, tpr, thresholds = roc_curve(y_test, pred)\n",
    "plot_confusion_matrix(cm, \n",
    "                      normalize    = False,\n",
    "                      target_names = ['Failure', 'Sucess'],\n",
    "                      title        = \"Confusion Matrix\")\n",
    "show_confusion_matrix(cm, ['Failure', 'Success'])\n",
    "plot_roc_curve(fpr, tpr,'SVM')\n",
    "print ('Area under ROC curve',auc(fpr, tpr))"
   ]
  },
  {
   "cell_type": "code",
   "execution_count": 28,
   "metadata": {},
   "outputs": [],
   "source": [
    "# Load libraries\n",
    "import pydotplus\n",
    "from IPython.display import Image\n",
    "from sklearn import tree"
   ]
  },
  {
   "cell_type": "code",
   "execution_count": 29,
   "metadata": {},
   "outputs": [],
   "source": [
    "dot_data = tree.export_graphviz(classifier , out_file=None, \n",
    "                                feature_names=X_train.columns)"
   ]
  },
  {
   "cell_type": "code",
   "execution_count": 30,
   "metadata": {},
   "outputs": [],
   "source": [
    "graph = pydotplus.graph_from_dot_data(dot_data) "
   ]
  },
  {
   "cell_type": "code",
   "execution_count": 31,
   "metadata": {},
   "outputs": [
    {
     "name": "stdout",
     "output_type": "stream",
     "text": [
      "dot: graph is too large for cairo-renderer bitmaps. Scaling by 0.960036 to fit\n",
      "\n"
     ]
    },
    {
     "data": {
      "text/plain": [
       "True"
      ]
     },
     "execution_count": 31,
     "metadata": {},
     "output_type": "execute_result"
    }
   ],
   "source": [
    "# Create PNG\n",
    "graph.write_png(\"kickstart1.png\")"
   ]
  },
  {
   "cell_type": "code",
   "execution_count": 36,
   "metadata": {},
   "outputs": [
    {
     "name": "stdout",
     "output_type": "stream",
     "text": [
      "Successful campaigns % staff picks\n",
      "0.0010590345094998062\n",
      "number of staff pick 2185\n",
      "number of entries 20632\n"
     ]
    }
   ],
   "source": [
    "print (\"Successful campaigns % staff picks\")\n",
    "print (len(dd[dd['staff_pick'] == 1])/(float(len(dd))*100))\n",
    "print ('number of staff pick',len(dd[dd['staff_pick'] == 1]))\n",
    "print ('number of entries',len(dd))"
   ]
  },
  {
   "cell_type": "code",
   "execution_count": 37,
   "metadata": {},
   "outputs": [
    {
     "data": {
      "text/plain": [
       "launch_to_deadline_days       -0.112968\n",
       "Unnamed: 0                    -0.099563\n",
       "deadline_yr                   -0.086247\n",
       "state_changed_at_yr           -0.082565\n",
       "launched_at_yr                -0.080460\n",
       "created_at_yr                 -0.078833\n",
       "disable_communication         -0.068135\n",
       "launched_at_hr                -0.054318\n",
       "goal                          -0.035045\n",
       "DeadlineWeekend               -0.030578\n",
       "id                            -0.015477\n",
       "deadline_day                  -0.011189\n",
       "created_at_month              -0.008615\n",
       "state_changed_at_day          -0.008285\n",
       "launched_at_day               -0.008251\n",
       "deadline_hr                   -0.001228\n",
       "created_at_day                -0.000470\n",
       "currency_trailing_code         0.005023\n",
       "state_changed_at_hr            0.005708\n",
       "created_at_hr                  0.008278\n",
       "launched_at_month              0.010042\n",
       "create_to_launch_days          0.012799\n",
       "blurb_len                      0.021875\n",
       "deadline_month                 0.025649\n",
       "state_changed_at_month         0.029588\n",
       "LaunchedTuesday                0.039861\n",
       "static_usd_rate                0.059260\n",
       "blurb_len_clean                0.060587\n",
       "launch_to_state_change_days    0.065503\n",
       "USorGB                         0.108420\n",
       "TOPCOUNTRY                     0.108490\n",
       "name_len_clean                 0.133032\n",
       "name_len                       0.133414\n",
       "backers_count                  0.194122\n",
       "pledged                        0.224826\n",
       "usd_pledged                    0.232241\n",
       "staff_pick                     0.344339\n",
       "SuccessfulBool                 1.000000\n",
       "spotlight                      1.000000\n",
       "Name: SuccessfulBool, dtype: float64"
      ]
     },
     "execution_count": 37,
     "metadata": {},
     "output_type": "execute_result"
    }
   ],
   "source": [
    "corrdf =dd.corr()\n",
    "corrdf['SuccessfulBool'].sort_values()"
   ]
  },
  {
   "cell_type": "code",
   "execution_count": null,
   "metadata": {},
   "outputs": [],
   "source": []
  }
 ],
 "metadata": {
  "kernelspec": {
   "display_name": "Python [conda root]",
   "language": "python",
   "name": "conda-root-py"
  },
  "language_info": {
   "codemirror_mode": {
    "name": "ipython",
    "version": 3
   },
   "file_extension": ".py",
   "mimetype": "text/x-python",
   "name": "python",
   "nbconvert_exporter": "python",
   "pygments_lexer": "ipython3",
   "version": "3.6.4"
  }
 },
 "nbformat": 4,
 "nbformat_minor": 2
}
